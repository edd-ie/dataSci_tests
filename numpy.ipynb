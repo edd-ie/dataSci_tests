{
 "cells": [
  {
   "attachments": {},
   "cell_type": "markdown",
   "metadata": {},
   "source": [
    "# Numpy"
   ]
  },
  {
   "cell_type": "code",
   "execution_count": 1,
   "metadata": {},
   "outputs": [],
   "source": [
    "import numpy as np"
   ]
  },
  {
   "cell_type": "code",
   "execution_count": null,
   "metadata": {},
   "outputs": [],
   "source": [
    "array1D = np.arange(1,9)\n",
    "print(array1D)"
   ]
  },
  {
   "cell_type": "code",
   "execution_count": null,
   "metadata": {},
   "outputs": [],
   "source": [
    "array3D = array1D.reshape(2,2,2)\n",
    "print(array3D)"
   ]
  },
  {
   "cell_type": "code",
   "execution_count": null,
   "metadata": {},
   "outputs": [],
   "source": [
    "array2D = array3D.reshape(4,2)\n",
    "print(array2D)"
   ]
  },
  {
   "cell_type": "code",
   "execution_count": null,
   "metadata": {},
   "outputs": [],
   "source": [
    "arrayUn = array1D.reshape(2,2,-1)\n",
    "print(arrayUn)"
   ]
  },
  {
   "cell_type": "code",
   "execution_count": null,
   "metadata": {},
   "outputs": [],
   "source": [
    "flat = arrayUn.reshape(-1)\n",
    "print(flat)"
   ]
  },
  {
   "cell_type": "code",
   "execution_count": null,
   "metadata": {},
   "outputs": [],
   "source": [
    "# a = np.array([0,4,8,12])\n",
    "# b = np.array([[1,2,3,4],[5,6,7,8]])\n",
    "# # c = np.add(a,b)\n",
    "# # d = np.subtract(a,b)\n",
    "# # e = np.multiply(a,b)\n",
    "# # f = np.divide(a,b)\n",
    "# g = np.power(b,a)\n",
    "# g"
   ]
  },
  {
   "cell_type": "code",
   "execution_count": null,
   "metadata": {},
   "outputs": [],
   "source": [
    "# test = np.array([i for i in range(10)])\n",
    "# test2 = np.where(test%2==0,(test+1),(test-1))\n",
    "# conditions = [test<3,test < 6, test>6]\n",
    "# actions = [test*0, test*2, test-1]\n",
    "# test3 = np.select(conditions, actions,default=test)"
   ]
  },
  {
   "cell_type": "code",
   "execution_count": null,
   "metadata": {},
   "outputs": [],
   "source": [
    "test = np.array([i for i in range(4,10)])\n",
    "minimum = np.amin(test)\n",
    "minimum"
   ]
  },
  {
   "cell_type": "code",
   "execution_count": 17,
   "metadata": {},
   "outputs": [
    {
     "data": {
      "text/plain": [
       "array([[ 7,  8,  9],\n",
       "       [10, 11, 12]])"
      ]
     },
     "execution_count": 17,
     "metadata": {},
     "output_type": "execute_result"
    }
   ],
   "source": [
    "a1d = np.arange(1,13)\n",
    "a2d = a1d.reshape(2,-1)\n",
    "a3d = a1d.reshape(2,2,3)\n",
    "a3d[1, 0:, 0:]"
   ]
  }
 ],
 "metadata": {
  "kernelspec": {
   "display_name": "Python 3",
   "language": "python",
   "name": "python3"
  },
  "language_info": {
   "codemirror_mode": {
    "name": "ipython",
    "version": 3
   },
   "file_extension": ".py",
   "mimetype": "text/x-python",
   "name": "python",
   "nbconvert_exporter": "python",
   "pygments_lexer": "ipython3",
   "version": "3.10.0"
  },
  "orig_nbformat": 4
 },
 "nbformat": 4,
 "nbformat_minor": 2
}
