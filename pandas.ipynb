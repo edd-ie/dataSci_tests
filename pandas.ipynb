{
 "cells": [
  {
   "attachments": {},
   "cell_type": "markdown",
   "metadata": {},
   "source": [
    "# Pandas"
   ]
  },
  {
   "cell_type": "code",
   "execution_count": 1,
   "metadata": {},
   "outputs": [],
   "source": [
    "import pandas as pd"
   ]
  },
  {
   "attachments": {},
   "cell_type": "markdown",
   "metadata": {},
   "source": [
    "### Creating a pandas series"
   ]
  },
  {
   "cell_type": "code",
   "execution_count": 8,
   "metadata": {},
   "outputs": [
    {
     "data": {
      "text/plain": [
       "9"
      ]
     },
     "execution_count": 8,
     "metadata": {},
     "output_type": "execute_result"
    }
   ],
   "source": [
    "array = [i for i in range(6,11)]\n",
    "keys = ['a','b','c','d','e']\n",
    "series = pd.Series(array[1:], index=keys[1:])\n",
    "series['d']"
   ]
  },
  {
   "cell_type": "code",
   "execution_count": 9,
   "metadata": {},
   "outputs": [
    {
     "data": {
      "text/plain": [
       "b    2\n",
       "d    4\n",
       "a    1\n",
       "dtype: int64"
      ]
     },
     "execution_count": 9,
     "metadata": {},
     "output_type": "execute_result"
    }
   ],
   "source": [
    "diction = {'a':1,'b':2,'c':3,'d':4}\n",
    "sDict = pd.Series(diction, index=['b','d','a'])\n",
    "sDict"
   ]
  },
  {
   "attachments": {},
   "cell_type": "markdown",
   "metadata": {},
   "source": [
    "### Querying a series"
   ]
  },
  {
   "cell_type": "code",
   "execution_count": 16,
   "metadata": {},
   "outputs": [
    {
     "data": {
      "text/plain": [
       "3"
      ]
     },
     "execution_count": 16,
     "metadata": {},
     "output_type": "execute_result"
    }
   ],
   "source": [
    "s_query = pd.Series([i for i in range(1,6)])\n",
    "\n",
    "#return element at series index 9\n",
    "s_query.iloc[4]\n",
    "s_query.iat[2]"
   ]
  },
  {
   "cell_type": "code",
   "execution_count": 20,
   "metadata": {},
   "outputs": [
    {
     "data": {
      "text/plain": [
       "0    NaN\n",
       "1    2.0\n",
       "2    NaN\n",
       "3    4.0\n",
       "4    NaN\n",
       "dtype: float64"
      ]
     },
     "execution_count": 20,
     "metadata": {},
     "output_type": "execute_result"
    }
   ],
   "source": [
    "check = s_query.where(s_query%2==0)\n",
    "check"
   ]
  },
  {
   "cell_type": "code",
   "execution_count": 21,
   "metadata": {},
   "outputs": [
    {
     "data": {
      "text/plain": [
       "0    0.0\n",
       "1    2.0\n",
       "2    0.0\n",
       "3    4.0\n",
       "4    0.0\n",
       "dtype: float64"
      ]
     },
     "execution_count": 21,
     "metadata": {},
     "output_type": "execute_result"
    }
   ],
   "source": [
    "check.fillna(0)"
   ]
  },
  {
   "attachments": {},
   "cell_type": "markdown",
   "metadata": {},
   "source": [
    "### Pandas dataframes"
   ]
  },
  {
   "cell_type": "code",
   "execution_count": 4,
   "metadata": {},
   "outputs": [
    {
     "data": {
      "text/html": [
       "<div>\n",
       "<style scoped>\n",
       "    .dataframe tbody tr th:only-of-type {\n",
       "        vertical-align: middle;\n",
       "    }\n",
       "\n",
       "    .dataframe tbody tr th {\n",
       "        vertical-align: top;\n",
       "    }\n",
       "\n",
       "    .dataframe thead th {\n",
       "        text-align: right;\n",
       "    }\n",
       "</style>\n",
       "<table border=\"1\" class=\"dataframe\">\n",
       "  <thead>\n",
       "    <tr style=\"text-align: right;\">\n",
       "      <th></th>\n",
       "      <th>API Name</th>\n",
       "      <th>Pros/Advantages</th>\n",
       "      <th>Unique Features</th>\n",
       "      <th>Accuracy</th>\n",
       "      <th>Status</th>\n",
       "    </tr>\n",
       "  </thead>\n",
       "  <tbody>\n",
       "    <tr>\n",
       "      <th>0</th>\n",
       "      <td>OpenWeatherMap</td>\n",
       "      <td>Large global coverage, supports multiple data ...</td>\n",
       "      <td>UV index, air quality index, historical weathe...</td>\n",
       "      <td>Good</td>\n",
       "      <td>Approved</td>\n",
       "    </tr>\n",
       "    <tr>\n",
       "      <th>1</th>\n",
       "      <td>WeatherAPI</td>\n",
       "      <td>Easy to use, supports multiple data formats, h...</td>\n",
       "      <td>Hourly forecasts, moon phases, sunset/sunrise ...</td>\n",
       "      <td>Good</td>\n",
       "      <td>Approved</td>\n",
       "    </tr>\n",
       "    <tr>\n",
       "      <th>2</th>\n",
       "      <td>Climacell</td>\n",
       "      <td>Hyperlocal weather data, minute-by-minute fore...</td>\n",
       "      <td>Weather maps and overlays, advanced lightning ...</td>\n",
       "      <td>Moderate</td>\n",
       "      <td>Pending</td>\n",
       "    </tr>\n",
       "    <tr>\n",
       "      <th>3</th>\n",
       "      <td>Weatherstack</td>\n",
       "      <td>Accurate weather data, supports multiple langu...</td>\n",
       "      <td>Real-time weather data, weather alerts, intera...</td>\n",
       "      <td>Good</td>\n",
       "      <td>Denied</td>\n",
       "    </tr>\n",
       "    <tr>\n",
       "      <th>4</th>\n",
       "      <td>AccuWeather</td>\n",
       "      <td>Minute-by-minute forecasts, radar maps, histor...</td>\n",
       "      <td>Global coverage, 15-day forecasts, weather vid...</td>\n",
       "      <td>Moderate</td>\n",
       "      <td>Denied</td>\n",
       "    </tr>\n",
       "    <tr>\n",
       "      <th>5</th>\n",
       "      <td>National Weather Service</td>\n",
       "      <td>Official US government weather data, radar map...</td>\n",
       "      <td>Historical weather data, river and flood data,...</td>\n",
       "      <td>Good</td>\n",
       "      <td>Denied</td>\n",
       "    </tr>\n",
       "    <tr>\n",
       "      <th>6</th>\n",
       "      <td>Weather Underground</td>\n",
       "      <td>Accurate weather data, supports multiple langu...</td>\n",
       "      <td>Personal weather stations, ski reports, storm ...</td>\n",
       "      <td>Moderate</td>\n",
       "      <td>Denied</td>\n",
       "    </tr>\n",
       "    <tr>\n",
       "      <th>7</th>\n",
       "      <td>Visual Crossing Weather</td>\n",
       "      <td>Historical weather data, accurate weather data...</td>\n",
       "      <td>Hourly forecasts, interactive weather maps, we...</td>\n",
       "      <td>Good</td>\n",
       "      <td>Denied</td>\n",
       "    </tr>\n",
       "    <tr>\n",
       "      <th>8</th>\n",
       "      <td>Meteostat</td>\n",
       "      <td>Global coverage, historical weather data, supp...</td>\n",
       "      <td>Hourly and daily forecasts, weather maps and o...</td>\n",
       "      <td>Moderate</td>\n",
       "      <td>Denied</td>\n",
       "    </tr>\n",
       "  </tbody>\n",
       "</table>\n",
       "</div>"
      ],
      "text/plain": [
       "                   API Name  \\\n",
       "0            OpenWeatherMap   \n",
       "1                WeatherAPI   \n",
       "2                 Climacell   \n",
       "3              Weatherstack   \n",
       "4               AccuWeather   \n",
       "5  National Weather Service   \n",
       "6       Weather Underground   \n",
       "7   Visual Crossing Weather   \n",
       "8                 Meteostat   \n",
       "\n",
       "                                     Pros/Advantages  \\\n",
       "0  Large global coverage, supports multiple data ...   \n",
       "1  Easy to use, supports multiple data formats, h...   \n",
       "2  Hyperlocal weather data, minute-by-minute fore...   \n",
       "3  Accurate weather data, supports multiple langu...   \n",
       "4  Minute-by-minute forecasts, radar maps, histor...   \n",
       "5  Official US government weather data, radar map...   \n",
       "6  Accurate weather data, supports multiple langu...   \n",
       "7  Historical weather data, accurate weather data...   \n",
       "8  Global coverage, historical weather data, supp...   \n",
       "\n",
       "                                     Unique Features  Accuracy    Status  \n",
       "0  UV index, air quality index, historical weathe...      Good  Approved  \n",
       "1  Hourly forecasts, moon phases, sunset/sunrise ...      Good  Approved  \n",
       "2  Weather maps and overlays, advanced lightning ...  Moderate   Pending  \n",
       "3  Real-time weather data, weather alerts, intera...      Good    Denied  \n",
       "4  Global coverage, 15-day forecasts, weather vid...  Moderate    Denied  \n",
       "5  Historical weather data, river and flood data,...      Good    Denied  \n",
       "6  Personal weather stations, ski reports, storm ...  Moderate    Denied  \n",
       "7  Hourly forecasts, interactive weather maps, we...      Good    Denied  \n",
       "8  Hourly and daily forecasts, weather maps and o...  Moderate    Denied  "
      ]
     },
     "execution_count": 4,
     "metadata": {},
     "output_type": "execute_result"
    }
   ],
   "source": [
    "df = pd.DataFrame()\n",
    "df = pd.read_csv('./datasets/research.csv')\n",
    "df"
   ]
  },
  {
   "cell_type": "code",
   "execution_count": 5,
   "metadata": {},
   "outputs": [
    {
     "data": {
      "text/html": [
       "<div>\n",
       "<style scoped>\n",
       "    .dataframe tbody tr th:only-of-type {\n",
       "        vertical-align: middle;\n",
       "    }\n",
       "\n",
       "    .dataframe tbody tr th {\n",
       "        vertical-align: top;\n",
       "    }\n",
       "\n",
       "    .dataframe thead th {\n",
       "        text-align: right;\n",
       "    }\n",
       "</style>\n",
       "<table border=\"1\" class=\"dataframe\">\n",
       "  <thead>\n",
       "    <tr style=\"text-align: right;\">\n",
       "      <th></th>\n",
       "      <th>API Name</th>\n",
       "      <th>Pros/Advantages</th>\n",
       "      <th>Unique Features</th>\n",
       "      <th>Accuracy</th>\n",
       "      <th>Status</th>\n",
       "    </tr>\n",
       "  </thead>\n",
       "  <tbody>\n",
       "    <tr>\n",
       "      <th>0</th>\n",
       "      <td>OpenWeatherMap</td>\n",
       "      <td>Large global coverage, supports multiple data ...</td>\n",
       "      <td>UV index, air quality index, historical weathe...</td>\n",
       "      <td>Good</td>\n",
       "      <td>Approved</td>\n",
       "    </tr>\n",
       "    <tr>\n",
       "      <th>1</th>\n",
       "      <td>WeatherAPI</td>\n",
       "      <td>Easy to use, supports multiple data formats, h...</td>\n",
       "      <td>Hourly forecasts, moon phases, sunset/sunrise ...</td>\n",
       "      <td>Good</td>\n",
       "      <td>Approved</td>\n",
       "    </tr>\n",
       "  </tbody>\n",
       "</table>\n",
       "</div>"
      ],
      "text/plain": [
       "         API Name                                    Pros/Advantages  \\\n",
       "0  OpenWeatherMap  Large global coverage, supports multiple data ...   \n",
       "1      WeatherAPI  Easy to use, supports multiple data formats, h...   \n",
       "\n",
       "                                     Unique Features Accuracy    Status  \n",
       "0  UV index, air quality index, historical weathe...     Good  Approved  \n",
       "1  Hourly forecasts, moon phases, sunset/sunrise ...     Good  Approved  "
      ]
     },
     "execution_count": 5,
     "metadata": {},
     "output_type": "execute_result"
    }
   ],
   "source": [
    "selected = df[df['Status']=='Approved']\n",
    "selected"
   ]
  },
  {
   "cell_type": "code",
   "execution_count": 32,
   "metadata": {},
   "outputs": [
    {
     "data": {
      "text/html": [
       "<div>\n",
       "<style scoped>\n",
       "    .dataframe tbody tr th:only-of-type {\n",
       "        vertical-align: middle;\n",
       "    }\n",
       "\n",
       "    .dataframe tbody tr th {\n",
       "        vertical-align: top;\n",
       "    }\n",
       "\n",
       "    .dataframe thead th {\n",
       "        text-align: right;\n",
       "    }\n",
       "</style>\n",
       "<table border=\"1\" class=\"dataframe\">\n",
       "  <thead>\n",
       "    <tr style=\"text-align: right;\">\n",
       "      <th></th>\n",
       "      <th>API Name</th>\n",
       "      <th>Pros/Advantages</th>\n",
       "      <th>Unique Features</th>\n",
       "      <th>Accuracy</th>\n",
       "      <th>Status</th>\n",
       "    </tr>\n",
       "  </thead>\n",
       "  <tbody>\n",
       "    <tr>\n",
       "      <th>3</th>\n",
       "      <td>Weatherstack</td>\n",
       "      <td>Accurate weather data, supports multiple langu...</td>\n",
       "      <td>Real-time weather data, weather alerts, intera...</td>\n",
       "      <td>Good</td>\n",
       "      <td>Denied</td>\n",
       "    </tr>\n",
       "    <tr>\n",
       "      <th>5</th>\n",
       "      <td>National Weather Service</td>\n",
       "      <td>Official US government weather data, radar map...</td>\n",
       "      <td>Historical weather data, river and flood data,...</td>\n",
       "      <td>Good</td>\n",
       "      <td>Denied</td>\n",
       "    </tr>\n",
       "    <tr>\n",
       "      <th>7</th>\n",
       "      <td>Visual Crossing Weather</td>\n",
       "      <td>Historical weather data, accurate weather data...</td>\n",
       "      <td>Hourly forecasts, interactive weather maps, we...</td>\n",
       "      <td>Good</td>\n",
       "      <td>Denied</td>\n",
       "    </tr>\n",
       "  </tbody>\n",
       "</table>\n",
       "</div>"
      ],
      "text/plain": [
       "                   API Name  \\\n",
       "3              Weatherstack   \n",
       "5  National Weather Service   \n",
       "7   Visual Crossing Weather   \n",
       "\n",
       "                                     Pros/Advantages  \\\n",
       "3  Accurate weather data, supports multiple langu...   \n",
       "5  Official US government weather data, radar map...   \n",
       "7  Historical weather data, accurate weather data...   \n",
       "\n",
       "                                     Unique Features Accuracy  Status  \n",
       "3  Real-time weather data, weather alerts, intera...     Good  Denied  \n",
       "5  Historical weather data, river and flood data,...     Good  Denied  \n",
       "7  Hourly forecasts, interactive weather maps, we...     Good  Denied  "
      ]
     },
     "execution_count": 32,
     "metadata": {},
     "output_type": "execute_result"
    }
   ],
   "source": [
    "waitlist = df[(df['Accuracy'] == 'Good') & (df['Status']=='Denied')]\n",
    "waitlist"
   ]
  },
  {
   "cell_type": "code",
   "execution_count": 33,
   "metadata": {},
   "outputs": [
    {
     "data": {
      "text/html": [
       "<div>\n",
       "<style scoped>\n",
       "    .dataframe tbody tr th:only-of-type {\n",
       "        vertical-align: middle;\n",
       "    }\n",
       "\n",
       "    .dataframe tbody tr th {\n",
       "        vertical-align: top;\n",
       "    }\n",
       "\n",
       "    .dataframe thead th {\n",
       "        text-align: right;\n",
       "    }\n",
       "</style>\n",
       "<table border=\"1\" class=\"dataframe\">\n",
       "  <thead>\n",
       "    <tr style=\"text-align: right;\">\n",
       "      <th></th>\n",
       "      <th>Pros/Advantages</th>\n",
       "      <th>Unique Features</th>\n",
       "      <th>Accuracy</th>\n",
       "      <th>Status</th>\n",
       "    </tr>\n",
       "    <tr>\n",
       "      <th>API Name</th>\n",
       "      <th></th>\n",
       "      <th></th>\n",
       "      <th></th>\n",
       "      <th></th>\n",
       "    </tr>\n",
       "  </thead>\n",
       "  <tbody>\n",
       "    <tr>\n",
       "      <th>OpenWeatherMap</th>\n",
       "      <td>Large global coverage, supports multiple data ...</td>\n",
       "      <td>UV index, air quality index, historical weathe...</td>\n",
       "      <td>Good</td>\n",
       "      <td>Approved</td>\n",
       "    </tr>\n",
       "    <tr>\n",
       "      <th>WeatherAPI</th>\n",
       "      <td>Easy to use, supports multiple data formats, h...</td>\n",
       "      <td>Hourly forecasts, moon phases, sunset/sunrise ...</td>\n",
       "      <td>Good</td>\n",
       "      <td>Approved</td>\n",
       "    </tr>\n",
       "    <tr>\n",
       "      <th>Climacell</th>\n",
       "      <td>Hyperlocal weather data, minute-by-minute fore...</td>\n",
       "      <td>Weather maps and overlays, advanced lightning ...</td>\n",
       "      <td>Moderate</td>\n",
       "      <td>Pending</td>\n",
       "    </tr>\n",
       "    <tr>\n",
       "      <th>Weatherstack</th>\n",
       "      <td>Accurate weather data, supports multiple langu...</td>\n",
       "      <td>Real-time weather data, weather alerts, intera...</td>\n",
       "      <td>Good</td>\n",
       "      <td>Denied</td>\n",
       "    </tr>\n",
       "    <tr>\n",
       "      <th>AccuWeather</th>\n",
       "      <td>Minute-by-minute forecasts, radar maps, histor...</td>\n",
       "      <td>Global coverage, 15-day forecasts, weather vid...</td>\n",
       "      <td>Moderate</td>\n",
       "      <td>Denied</td>\n",
       "    </tr>\n",
       "    <tr>\n",
       "      <th>National Weather Service</th>\n",
       "      <td>Official US government weather data, radar map...</td>\n",
       "      <td>Historical weather data, river and flood data,...</td>\n",
       "      <td>Good</td>\n",
       "      <td>Denied</td>\n",
       "    </tr>\n",
       "    <tr>\n",
       "      <th>Weather Underground</th>\n",
       "      <td>Accurate weather data, supports multiple langu...</td>\n",
       "      <td>Personal weather stations, ski reports, storm ...</td>\n",
       "      <td>Moderate</td>\n",
       "      <td>Denied</td>\n",
       "    </tr>\n",
       "    <tr>\n",
       "      <th>Visual Crossing Weather</th>\n",
       "      <td>Historical weather data, accurate weather data...</td>\n",
       "      <td>Hourly forecasts, interactive weather maps, we...</td>\n",
       "      <td>Good</td>\n",
       "      <td>Denied</td>\n",
       "    </tr>\n",
       "    <tr>\n",
       "      <th>Meteostat</th>\n",
       "      <td>Global coverage, historical weather data, supp...</td>\n",
       "      <td>Hourly and daily forecasts, weather maps and o...</td>\n",
       "      <td>Moderate</td>\n",
       "      <td>Denied</td>\n",
       "    </tr>\n",
       "  </tbody>\n",
       "</table>\n",
       "</div>"
      ],
      "text/plain": [
       "                                                            Pros/Advantages  \\\n",
       "API Name                                                                      \n",
       "OpenWeatherMap            Large global coverage, supports multiple data ...   \n",
       "WeatherAPI                Easy to use, supports multiple data formats, h...   \n",
       "Climacell                 Hyperlocal weather data, minute-by-minute fore...   \n",
       "Weatherstack              Accurate weather data, supports multiple langu...   \n",
       "AccuWeather               Minute-by-minute forecasts, radar maps, histor...   \n",
       "National Weather Service  Official US government weather data, radar map...   \n",
       "Weather Underground       Accurate weather data, supports multiple langu...   \n",
       "Visual Crossing Weather   Historical weather data, accurate weather data...   \n",
       "Meteostat                 Global coverage, historical weather data, supp...   \n",
       "\n",
       "                                                            Unique Features  \\\n",
       "API Name                                                                      \n",
       "OpenWeatherMap            UV index, air quality index, historical weathe...   \n",
       "WeatherAPI                Hourly forecasts, moon phases, sunset/sunrise ...   \n",
       "Climacell                 Weather maps and overlays, advanced lightning ...   \n",
       "Weatherstack              Real-time weather data, weather alerts, intera...   \n",
       "AccuWeather               Global coverage, 15-day forecasts, weather vid...   \n",
       "National Weather Service  Historical weather data, river and flood data,...   \n",
       "Weather Underground       Personal weather stations, ski reports, storm ...   \n",
       "Visual Crossing Weather   Hourly forecasts, interactive weather maps, we...   \n",
       "Meteostat                 Hourly and daily forecasts, weather maps and o...   \n",
       "\n",
       "                          Accuracy    Status  \n",
       "API Name                                      \n",
       "OpenWeatherMap                Good  Approved  \n",
       "WeatherAPI                    Good  Approved  \n",
       "Climacell                 Moderate   Pending  \n",
       "Weatherstack                  Good    Denied  \n",
       "AccuWeather               Moderate    Denied  \n",
       "National Weather Service      Good    Denied  \n",
       "Weather Underground       Moderate    Denied  \n",
       "Visual Crossing Weather       Good    Denied  \n",
       "Meteostat                 Moderate    Denied  "
      ]
     },
     "execution_count": 33,
     "metadata": {},
     "output_type": "execute_result"
    }
   ],
   "source": [
    "indexed = df.set_index('API Name')\n",
    "indexed"
   ]
  }
 ],
 "metadata": {
  "kernelspec": {
   "display_name": "Python 3",
   "language": "python",
   "name": "python3"
  },
  "language_info": {
   "codemirror_mode": {
    "name": "ipython",
    "version": 3
   },
   "file_extension": ".py",
   "mimetype": "text/x-python",
   "name": "python",
   "nbconvert_exporter": "python",
   "pygments_lexer": "ipython3",
   "version": "3.10.0"
  },
  "orig_nbformat": 4
 },
 "nbformat": 4,
 "nbformat_minor": 2
}
